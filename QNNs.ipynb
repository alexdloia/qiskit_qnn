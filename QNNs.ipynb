{
  "nbformat": 4,
  "nbformat_minor": 0,
  "metadata": {
    "colab": {
      "name": "QNNs.ipynb",
      "provenance": [],
      "collapsed_sections": []
    },
    "kernelspec": {
      "name": "python3",
      "display_name": "Python 3"
    }
  },
  "cells": [
    {
      "cell_type": "markdown",
      "metadata": {
        "id": "rSjn3wyoN6Mt",
        "colab_type": "text"
      },
      "source": [
        "Qiskit is IBM's Quantum Computing SDK, essentially granting the ability to write quantum circuits in Python rather than graphically like in the Quantum Experience."
      ]
    },
    {
      "cell_type": "code",
      "metadata": {
        "id": "m_O-TEp8N57l",
        "colab_type": "code",
        "colab": {
          "base_uri": "https://localhost:8080/",
          "height": 1000
        },
        "outputId": "67d72d7f-ab2b-424f-a044-ba1965aae60a"
      },
      "source": [
        "# Enable IBMQ account (Feel free to make a copy and change the account key accordingly)\n",
        "account_key = \"\" #@param {type:\"string\"}\n",
        "!pip install qiskit\n",
        "import qiskit\n",
        "from qiskit import IBMQ\n",
        "\n",
        "provider = IBMQ.enable_account(account_key)\n",
        "qiskit.__version__\n"
      ],
      "execution_count": 2,
      "outputs": [
        {
          "output_type": "stream",
          "text": [
            "Collecting qiskit\n",
            "  Downloading https://files.pythonhosted.org/packages/38/4e/f275e4b0bc1b8d1c61d8088d693e480fa396c8f3d32e516655f25c510792/qiskit-0.19.6.tar.gz\n",
            "Collecting qiskit-terra==0.14.2\n",
            "\u001b[?25l  Downloading https://files.pythonhosted.org/packages/64/84/47c2b87551fe81a435eb4224991c1713d538b0605bda4e3c737f4a9f2cc2/qiskit_terra-0.14.2-cp36-cp36m-manylinux2010_x86_64.whl (6.7MB)\n",
            "\u001b[K     |████████████████████████████████| 6.7MB 2.4MB/s \n",
            "\u001b[?25hCollecting qiskit-aer==0.5.2\n",
            "\u001b[?25l  Downloading https://files.pythonhosted.org/packages/45/6f/2d269684891b634cce6ddb5684fd004c7b6bf986cec8544f4b6f495c8b99/qiskit_aer-0.5.2-cp36-cp36m-manylinux2010_x86_64.whl (23.3MB)\n",
            "\u001b[K     |████████████████████████████████| 23.3MB 1.7MB/s \n",
            "\u001b[?25hCollecting qiskit-ibmq-provider==0.7.2\n",
            "\u001b[?25l  Downloading https://files.pythonhosted.org/packages/92/1f/0c6b290064a471a8a9c1e3366367b46d320efdad6b730eadefbd1f3c4eb0/qiskit_ibmq_provider-0.7.2-py3-none-any.whl (155kB)\n",
            "\u001b[K     |████████████████████████████████| 163kB 47.7MB/s \n",
            "\u001b[?25hCollecting qiskit-ignis==0.3.3\n",
            "\u001b[?25l  Downloading https://files.pythonhosted.org/packages/06/5e/273c6f99b4b64dcbab37990627778ed38d8f52e8060db7fc67f38f09fbb2/qiskit_ignis-0.3.3-py3-none-any.whl (179kB)\n",
            "\u001b[K     |████████████████████████████████| 184kB 49.0MB/s \n",
            "\u001b[?25hCollecting qiskit-aqua==0.7.3\n",
            "\u001b[?25l  Downloading https://files.pythonhosted.org/packages/89/18/00c426f06abfa0461a4d794d833c036f8ac5f88062f368d01f739ee1c032/qiskit_aqua-0.7.3-py3-none-any.whl (1.9MB)\n",
            "\u001b[K     |████████████████████████████████| 1.9MB 39.7MB/s \n",
            "\u001b[?25hCollecting python-constraint>=1.4\n",
            "  Downloading https://files.pythonhosted.org/packages/37/8b/5f1bc2734ca611943e1d6733ee244238679f6410a10cd45ede55a61a8402/python-constraint-1.4.0.tar.bz2\n",
            "Collecting marshmallow<4,>=3\n",
            "\u001b[?25l  Downloading https://files.pythonhosted.org/packages/c9/e3/afff202331777faa5b1c772a0b9f2f8c207fde0bef5733cc7ce9d7dbb71a/marshmallow-3.7.0-py2.py3-none-any.whl (45kB)\n",
            "\u001b[K     |████████████████████████████████| 51kB 7.6MB/s \n",
            "\u001b[?25hRequirement already satisfied: psutil>=5 in /usr/local/lib/python3.6/dist-packages (from qiskit-terra==0.14.2->qiskit) (5.4.8)\n",
            "Requirement already satisfied: scipy>=1.4 in /usr/local/lib/python3.6/dist-packages (from qiskit-terra==0.14.2->qiskit) (1.4.1)\n",
            "Collecting fastjsonschema>=2.10\n",
            "  Downloading https://files.pythonhosted.org/packages/3a/2b/5e93ebbdc92fe742bfc006f79336c2ddcb436747ef579bc05057c43ad876/fastjsonschema-2.14.4-py3-none-any.whl\n",
            "Requirement already satisfied: networkx>=2.2; python_version > \"3.5\" in /usr/local/lib/python3.6/dist-packages (from qiskit-terra==0.14.2->qiskit) (2.4)\n",
            "Collecting marshmallow-polyfield<6,>=5.7\n",
            "  Downloading https://files.pythonhosted.org/packages/0c/7e/ceb805d05cd03709b8de122b4ac1e736c4eb91d05281ad2a2bcb484accef/marshmallow-polyfield-5.9.tar.gz\n",
            "Collecting retworkx>=0.3.2\n",
            "\u001b[?25l  Downloading https://files.pythonhosted.org/packages/28/44/e28d30808fc093bb82393737f36f1fd370afe5ed82a08c382c4672340916/retworkx-0.3.4-cp36-cp36m-manylinux2010_x86_64.whl (763kB)\n",
            "\u001b[K     |████████████████████████████████| 768kB 43.0MB/s \n",
            "\u001b[?25hRequirement already satisfied: dill>=0.3 in /usr/local/lib/python3.6/dist-packages (from qiskit-terra==0.14.2->qiskit) (0.3.2)\n",
            "Requirement already satisfied: numpy>=1.17 in /usr/local/lib/python3.6/dist-packages (from qiskit-terra==0.14.2->qiskit) (1.18.5)\n",
            "Collecting sympy>=1.3\n",
            "\u001b[?25l  Downloading https://files.pythonhosted.org/packages/1e/ed/4b0576282597e87e7cf3be33fa4f738d5974471f9b59a55b3730c3877530/sympy-1.6.1-py3-none-any.whl (5.8MB)\n",
            "\u001b[K     |████████████████████████████████| 5.8MB 43.2MB/s \n",
            "\u001b[?25hRequirement already satisfied: python-dateutil>=2.8.0 in /usr/local/lib/python3.6/dist-packages (from qiskit-terra==0.14.2->qiskit) (2.8.1)\n",
            "Requirement already satisfied: jsonschema>=2.6 in /usr/local/lib/python3.6/dist-packages (from qiskit-terra==0.14.2->qiskit) (2.6.0)\n",
            "Collecting ply>=3.10\n",
            "\u001b[?25l  Downloading https://files.pythonhosted.org/packages/a3/58/35da89ee790598a0700ea49b2a66594140f44dec458c07e8e3d4979137fc/ply-3.11-py2.py3-none-any.whl (49kB)\n",
            "\u001b[K     |████████████████████████████████| 51kB 6.9MB/s \n",
            "\u001b[?25hCollecting pybind11>=2.4\n",
            "\u001b[?25l  Downloading https://files.pythonhosted.org/packages/89/e3/d576f6f02bc75bacbc3d42494e8f1d063c95617d86648dba243c2cb3963e/pybind11-2.5.0-py2.py3-none-any.whl (296kB)\n",
            "\u001b[K     |████████████████████████████████| 296kB 28.5MB/s \n",
            "\u001b[?25hRequirement already satisfied: cython>=0.27.1 in /usr/local/lib/python3.6/dist-packages (from qiskit-aer==0.5.2->qiskit) (0.29.20)\n",
            "Collecting websockets<8,>=7\n",
            "\u001b[?25l  Downloading https://files.pythonhosted.org/packages/43/71/8bfa882b9c502c36e5c9ef6732969533670d2b039cbf95a82ced8f762b80/websockets-7.0-cp36-cp36m-manylinux1_x86_64.whl (63kB)\n",
            "\u001b[K     |████████████████████████████████| 71kB 8.2MB/s \n",
            "\u001b[?25hRequirement already satisfied: requests>=2.19 in /usr/local/lib/python3.6/dist-packages (from qiskit-ibmq-provider==0.7.2->qiskit) (2.23.0)\n",
            "Collecting requests-ntlm>=1.1.0\n",
            "  Downloading https://files.pythonhosted.org/packages/03/4b/8b9a1afde8072c4d5710d9fa91433d504325821b038e00237dc8d6d833dc/requests_ntlm-1.1.0-py2.py3-none-any.whl\n",
            "Collecting nest-asyncio!=1.1.0,>=1.0.0\n",
            "  Downloading https://files.pythonhosted.org/packages/74/b4/b24e0a271fb78990c2c62238321686454824b1357ce7abcf20f431fd903d/nest_asyncio-1.3.3-py3-none-any.whl\n",
            "Requirement already satisfied: urllib3>=1.21.1 in /usr/local/lib/python3.6/dist-packages (from qiskit-ibmq-provider==0.7.2->qiskit) (1.24.3)\n",
            "Requirement already satisfied: scikit-learn>=0.17 in /usr/local/lib/python3.6/dist-packages (from qiskit-ignis==0.3.3->qiskit) (0.22.2.post1)\n",
            "Requirement already satisfied: setuptools>=40.1.0 in /usr/local/lib/python3.6/dist-packages (from qiskit-ignis==0.3.3->qiskit) (49.1.0)\n",
            "Collecting dlx\n",
            "  Downloading https://files.pythonhosted.org/packages/54/c0/b8fb5bb727e983b6f5251433ef941b48f38c65bb0bd6ec509e9185bcd406/dlx-1.0.4.tar.gz\n",
            "Requirement already satisfied: h5py in /usr/local/lib/python3.6/dist-packages (from qiskit-aqua==0.7.3->qiskit) (2.10.0)\n",
            "Collecting quandl\n",
            "  Downloading https://files.pythonhosted.org/packages/21/ce/281f4ae2554ba676735157a91205e808af149e97be534d6a1b9196638e63/Quandl-3.5.1-py2.py3-none-any.whl\n",
            "Requirement already satisfied: fastdtw in /usr/local/lib/python3.6/dist-packages (from qiskit-aqua==0.7.3->qiskit) (0.3.4)\n",
            "Collecting docplex\n",
            "\u001b[?25l  Downloading https://files.pythonhosted.org/packages/00/06/ad4441a00b8a9ff415882ff31273fe6519034879b6c2b65c47758a0278d5/docplex-2.14.186.tar.gz (572kB)\n",
            "\u001b[K     |████████████████████████████████| 573kB 39.7MB/s \n",
            "\u001b[?25hCollecting pyscf; sys_platform != \"win32\"\n",
            "\u001b[?25l  Downloading https://files.pythonhosted.org/packages/0c/69/c6dad63aec5519c287036e82beb36ca46e4a409604676b8787425fa7499c/pyscf-1.7.3-cp36-cp36m-manylinux1_x86_64.whl (26.0MB)\n",
            "\u001b[K     |████████████████████████████████| 26.0MB 1.3MB/s \n",
            "\u001b[?25hRequirement already satisfied: decorator>=4.3.0 in /usr/local/lib/python3.6/dist-packages (from networkx>=2.2; python_version > \"3.5\"->qiskit-terra==0.14.2->qiskit) (4.4.2)\n",
            "Requirement already satisfied: mpmath>=0.19 in /usr/local/lib/python3.6/dist-packages (from sympy>=1.3->qiskit-terra==0.14.2->qiskit) (1.1.0)\n",
            "Requirement already satisfied: six>=1.5 in /usr/local/lib/python3.6/dist-packages (from python-dateutil>=2.8.0->qiskit-terra==0.14.2->qiskit) (1.12.0)\n",
            "Requirement already satisfied: certifi>=2017.4.17 in /usr/local/lib/python3.6/dist-packages (from requests>=2.19->qiskit-ibmq-provider==0.7.2->qiskit) (2020.6.20)\n",
            "Requirement already satisfied: chardet<4,>=3.0.2 in /usr/local/lib/python3.6/dist-packages (from requests>=2.19->qiskit-ibmq-provider==0.7.2->qiskit) (3.0.4)\n",
            "Requirement already satisfied: idna<3,>=2.5 in /usr/local/lib/python3.6/dist-packages (from requests>=2.19->qiskit-ibmq-provider==0.7.2->qiskit) (2.10)\n",
            "Collecting cryptography>=1.3\n",
            "\u001b[?25l  Downloading https://files.pythonhosted.org/packages/3c/04/686efee2dcdd25aecf357992e7d9362f443eb182ecd623f882bc9f7a6bba/cryptography-2.9.2-cp35-abi3-manylinux2010_x86_64.whl (2.7MB)\n",
            "\u001b[K     |████████████████████████████████| 2.7MB 40.3MB/s \n",
            "\u001b[?25hCollecting ntlm-auth>=1.0.2\n",
            "  Downloading https://files.pythonhosted.org/packages/ff/84/97c550164b54942b0e908c31ef09d9469f3ba4cd7332a671e2125732f63b/ntlm_auth-1.5.0-py2.py3-none-any.whl\n",
            "Requirement already satisfied: joblib>=0.11 in /usr/local/lib/python3.6/dist-packages (from scikit-learn>=0.17->qiskit-ignis==0.3.3->qiskit) (0.16.0)\n",
            "Requirement already satisfied: more-itertools in /usr/local/lib/python3.6/dist-packages (from quandl->qiskit-aqua==0.7.3->qiskit) (8.4.0)\n",
            "Collecting inflection>=0.3.1\n",
            "  Downloading https://files.pythonhosted.org/packages/d2/cd/f04c661d1b5ba6b7d77008e8fedd28a27a683eeeffcd93c6b2dbe54ea983/inflection-0.5.0-py2.py3-none-any.whl\n",
            "Requirement already satisfied: pandas>=0.14 in /usr/local/lib/python3.6/dist-packages (from quandl->qiskit-aqua==0.7.3->qiskit) (1.0.5)\n",
            "Requirement already satisfied: cffi!=1.11.3,>=1.8 in /usr/local/lib/python3.6/dist-packages (from cryptography>=1.3->requests-ntlm>=1.1.0->qiskit-ibmq-provider==0.7.2->qiskit) (1.14.0)\n",
            "Requirement already satisfied: pytz>=2017.2 in /usr/local/lib/python3.6/dist-packages (from pandas>=0.14->quandl->qiskit-aqua==0.7.3->qiskit) (2018.9)\n",
            "Requirement already satisfied: pycparser in /usr/local/lib/python3.6/dist-packages (from cffi!=1.11.3,>=1.8->cryptography>=1.3->requests-ntlm>=1.1.0->qiskit-ibmq-provider==0.7.2->qiskit) (2.20)\n",
            "Building wheels for collected packages: qiskit, python-constraint, marshmallow-polyfield, dlx, docplex\n",
            "  Building wheel for qiskit (setup.py) ... \u001b[?25l\u001b[?25hdone\n",
            "  Created wheel for qiskit: filename=qiskit-0.19.6-cp36-none-any.whl size=3019 sha256=70defd1892c18aecb96da160ac98cf366b5894feb02d259e866d10e693a4a4a4\n",
            "  Stored in directory: /root/.cache/pip/wheels/35/45/55/8b82d355edf738ebd6d7f261f17ef1e7ca9ffc7d139c878e10\n",
            "  Building wheel for python-constraint (setup.py) ... \u001b[?25l\u001b[?25hdone\n",
            "  Created wheel for python-constraint: filename=python_constraint-1.4.0-py2.py3-none-any.whl size=24080 sha256=4286c251ff04299337c3351a236ab09d145542b52210dd8a927849ba00d324ab\n",
            "  Stored in directory: /root/.cache/pip/wheels/34/31/15/7b070b25d0a549d20ce2e9fe6d727471c2c61ef904720fd40c\n",
            "  Building wheel for marshmallow-polyfield (setup.py) ... \u001b[?25l\u001b[?25hdone\n",
            "  Created wheel for marshmallow-polyfield: filename=marshmallow_polyfield-5.9-cp36-none-any.whl size=8537 sha256=f585813392871d6204b0edfb24ddeb69364dc79760e5818ab516deb2c3ccc122\n",
            "  Stored in directory: /root/.cache/pip/wheels/69/27/3e/7472f75eab2db111aa387715fe009af15899459517fc1a1906\n",
            "  Building wheel for dlx (setup.py) ... \u001b[?25l\u001b[?25hdone\n",
            "  Created wheel for dlx: filename=dlx-1.0.4-cp36-none-any.whl size=5712 sha256=7cf4beffffc9411031605a2fd0595648b68fb1a95c013d293fa02818f5f1c2b8\n",
            "  Stored in directory: /root/.cache/pip/wheels/bb/ba/15/fdd0deb104df3254912998150ba9245668db06b00af5912d1a\n",
            "  Building wheel for docplex (setup.py) ... \u001b[?25l\u001b[?25hdone\n",
            "  Created wheel for docplex: filename=docplex-2.14.186-cp36-none-any.whl size=634442 sha256=645122dd1fdf57b6a7cca25efc13ea9f6782f3e635c8c8d8b432690bec252eb0\n",
            "  Stored in directory: /root/.cache/pip/wheels/aa/28/cd/ba75f92d49b25dacec6b80f99efcc393dc84abf33f96632ac4\n",
            "Successfully built qiskit python-constraint marshmallow-polyfield dlx docplex\n",
            "Installing collected packages: python-constraint, marshmallow, fastjsonschema, marshmallow-polyfield, retworkx, sympy, ply, qiskit-terra, pybind11, qiskit-aer, websockets, cryptography, ntlm-auth, requests-ntlm, nest-asyncio, qiskit-ibmq-provider, qiskit-ignis, dlx, inflection, quandl, docplex, pyscf, qiskit-aqua, qiskit\n",
            "  Found existing installation: sympy 1.1.1\n",
            "    Uninstalling sympy-1.1.1:\n",
            "      Successfully uninstalled sympy-1.1.1\n",
            "Successfully installed cryptography-2.9.2 dlx-1.0.4 docplex-2.14.186 fastjsonschema-2.14.4 inflection-0.5.0 marshmallow-3.7.0 marshmallow-polyfield-5.9 nest-asyncio-1.3.3 ntlm-auth-1.5.0 ply-3.11 pybind11-2.5.0 pyscf-1.7.3 python-constraint-1.4.0 qiskit-0.19.6 qiskit-aer-0.5.2 qiskit-aqua-0.7.3 qiskit-ibmq-provider-0.7.2 qiskit-ignis-0.3.3 qiskit-terra-0.14.2 quandl-3.5.1 requests-ntlm-1.1.0 retworkx-0.3.4 sympy-1.6.1 websockets-7.0\n"
          ],
          "name": "stdout"
        },
        {
          "output_type": "execute_result",
          "data": {
            "application/vnd.google.colaboratory.intrinsic": {
              "type": "string"
            },
            "text/plain": [
              "'0.14.2'"
            ]
          },
          "metadata": {
            "tags": []
          },
          "execution_count": 2
        }
      ]
    },
    {
      "cell_type": "code",
      "metadata": {
        "id": "okByKeLVQsyX",
        "colab_type": "code",
        "colab": {}
      },
      "source": [
        "import numpy as np\n",
        "from qiskit import (\n",
        "  QuantumCircuit,\n",
        "  execute,\n",
        "  Aer)\n",
        "from qiskit.visualization import plot_histogram"
      ],
      "execution_count": 3,
      "outputs": []
    },
    {
      "cell_type": "code",
      "metadata": {
        "id": "T2d_lN6NnryD",
        "colab_type": "code",
        "colab": {
          "base_uri": "https://localhost:8080/",
          "height": 187
        },
        "outputId": "b9461291-840a-46f1-f590-5c299ed44f21"
      },
      "source": [
        "# number of qubits that represent input data\n",
        "NUM_DATA_QUBITS = 12\n",
        "\n",
        "# Creating labeled data: numbers between 0 and 2^(NUM_DATA_QUBITS) - 1, checking if they're greater than 2**(NUM_DATA_QUBITS - 1)\n",
        "test_training_data = []\n",
        "formatStr = '{' + f'0:0>{NUM_DATA_QUBITS}b' + '}'\n",
        "\n",
        "for i in range(1000):\n",
        "  n = np.random.randint(2 ** NUM_DATA_QUBITS)\n",
        "  test_training_data.append(([0 if c == \"0\" else 1 for c in formatStr.format(n)], 1 if n > 2 ** (NUM_DATA_QUBITS - 1) else -1))\n",
        "\n",
        "test_training_data[:10]"
      ],
      "execution_count": 4,
      "outputs": [
        {
          "output_type": "execute_result",
          "data": {
            "text/plain": [
              "[([0, 0, 0, 0, 1, 0, 0, 0, 1, 0, 0, 1], -1),\n",
              " ([1, 1, 0, 1, 0, 1, 1, 0, 0, 0, 0, 0], 1),\n",
              " ([1, 0, 1, 1, 1, 0, 1, 0, 0, 0, 1, 1], 1),\n",
              " ([0, 1, 0, 1, 0, 0, 0, 0, 1, 0, 1, 0], -1),\n",
              " ([0, 1, 1, 1, 1, 1, 1, 1, 1, 1, 1, 1], -1),\n",
              " ([0, 0, 1, 1, 1, 1, 0, 1, 1, 1, 1, 1], -1),\n",
              " ([0, 0, 0, 1, 1, 0, 0, 0, 0, 1, 1, 1], -1),\n",
              " ([0, 1, 1, 1, 1, 1, 1, 1, 1, 1, 1, 0], -1),\n",
              " ([0, 0, 0, 1, 1, 0, 1, 1, 1, 0, 0, 1], -1),\n",
              " ([0, 1, 1, 0, 1, 1, 1, 0, 1, 1, 1, 0], -1)]"
            ]
          },
          "metadata": {
            "tags": []
          },
          "execution_count": 4
        }
      ]
    },
    {
      "cell_type": "code",
      "metadata": {
        "id": "jnIgVFLoWwxN",
        "colab_type": "code",
        "colab": {
          "base_uri": "https://localhost:8080/",
          "height": 136
        },
        "outputId": "54c317fe-987f-4546-ef24-d00c93e75b0c"
      },
      "source": [
        "from math import sqrt as msqrt\n",
        "\n",
        "Xarray = np.asarray([\n",
        "    [0, 1],\n",
        "    [1, 0]\n",
        "])\n",
        "Zarray = np.asarray([\n",
        "    [1, 0],\n",
        "    [0, -1]\n",
        "])\n",
        "\n",
        "ZXarray = np.kron(Zarray, Xarray)\n",
        "XXarray = np.kron(Xarray, Xarray)\n",
        "ZXarray, XXarray"
      ],
      "execution_count": 6,
      "outputs": [
        {
          "output_type": "execute_result",
          "data": {
            "text/plain": [
              "(array([[ 0,  1,  0,  0],\n",
              "        [ 1,  0,  0,  0],\n",
              "        [ 0,  0,  0, -1],\n",
              "        [ 0,  0, -1,  0]]), array([[0, 0, 0, 1],\n",
              "        [0, 0, 1, 0],\n",
              "        [0, 1, 0, 0],\n",
              "        [1, 0, 0, 0]]))"
            ]
          },
          "metadata": {
            "tags": []
          },
          "execution_count": 6
        }
      ]
    },
    {
      "cell_type": "markdown",
      "metadata": {
        "id": "L-m7otUcQ1dX",
        "colab_type": "text"
      },
      "source": [
        "This next cell contains the class that represents the quantum neural network and its requisite operations."
      ]
    },
    {
      "cell_type": "code",
      "metadata": {
        "id": "CFNhJlI5Q040",
        "colab_type": "code",
        "colab": {}
      },
      "source": [
        "from scipy.linalg import expm\n",
        "from qiskit.providers.ibmq import least_busy\n",
        "from qiskit.extensions import UnitaryGate\n",
        "from qiskit.tools.monitor import job_monitor\n",
        "from qiskit.quantum_info.operators import Operator\n",
        "\n",
        "\n",
        "# this backend simulates a quantum computer, collapsing qubits upon measurement\n",
        "backend_sim = Aer.get_backend('qasm_simulator')\n",
        "# this backend gives us the statevector after computation (32 entries in this case)\n",
        "statevector_backend = Aer.get_backend('statevector_simulator')\n",
        "# get least busy HPC simulator\n",
        "ibmq_sim_backend = least_busy(provider.backends(filters=lambda x: x.configuration().simulator))\n",
        "\n",
        "class QNN:\n",
        "  def __init__(self, num_data_qubits=12, learning_rate=0.05, params=np.random.randn(2, NUM_DATA_QUBITS)):\n",
        "    self.num_data_qubits = num_data_qubits\n",
        "    self.learning_rate = learning_rate\n",
        "    self.params = params\n",
        "\n",
        "  def apply_initial_state(self, circuit, sample=None):\n",
        "    if sample is None:\n",
        "      sample = np.random.randint(2, size=self.num_data_qubits)\n",
        "    \n",
        "    for i in range(self.num_data_qubits):\n",
        "      if sample[i]:\n",
        "        circuit.x(i)\n",
        "      \n",
        "    circuit.x(self.num_data_qubits)\n",
        "\n",
        "  def generate_operators(self):\n",
        "    operators = []\n",
        "    for j in range(len(self.params)):\n",
        "      for i in range(self.num_data_qubits):\n",
        "        U_ji = (expm(1j * self.params[j, i] * ZXarray) if j == 0 else\n",
        "                  expm(1j * self.params[j, i] * XXarray))\n",
        "\n",
        "        operators.append(Operator(U_ji.tolist()))\n",
        "\n",
        "    return operators\n",
        "\n",
        "  def construct_circuit(self, input_data=test_training_data[0][0]):\n",
        "    # this quantum circuit has 17 qubits and 1 classical register\n",
        "    circ = QuantumCircuit(self.num_data_qubits + 1, 1)\n",
        "    self.apply_initial_state(circ, input_data)\n",
        "\n",
        "    for i, op_i in enumerate(self.generate_operators()):\n",
        "      circ.unitary(op_i, [i % self.num_data_qubits, self.num_data_qubits], \n",
        "                   label=f\"{'ZX' if i < self.num_data_qubits else 'XX'}-{self.params[i // self.num_data_qubits, i % self.num_data_qubits]}\")\n",
        "\n",
        "    # measure the results\n",
        "    circ.y(self.num_data_qubits)\n",
        "    circ.measure([self.num_data_qubits], list(range(circ.num_clbits)))\n",
        "\n",
        "    return circ\n",
        "\n",
        "  def calc_grad(self, input_index, ibm_backend):\n",
        "    input_data = test_training_data[input_index][0]\n",
        "    ops = self.generate_operators()\n",
        "    gradient = [0.0 for i in range(len(ops))]\n",
        "    circs = []\n",
        "    \n",
        "    for k in range(len(ops)):\n",
        "      base_array = ZXarray if k < (len(ops) >> 1) else XXarray\n",
        "      Sigma_k = UnitaryGate((1j * base_array).tolist()).control(1)\n",
        "\n",
        "      grad_circ = QuantumCircuit(self.num_data_qubits + 2, 1)\n",
        "      self.apply_initial_state(grad_circ, input_data)\n",
        "\n",
        "      grad_circ.h(grad_circ.num_qubits - 1)\n",
        "\n",
        "      # applying gates of circ but inserting Sigma_k after U_k\n",
        "      for i in range(len(ops)):\n",
        "        q_ind = i % self.num_data_qubits\n",
        "        opGate = UnitaryGate(1j * ops[i]).control(1)\n",
        "        grad_circ.append(opGate, [grad_circ.num_qubits - 1, q_ind, grad_circ.num_qubits - 2])\n",
        "        if i == k:\n",
        "          grad_circ.append(Sigma_k, [grad_circ.num_qubits - 1, q_ind, grad_circ.num_qubits - 2])\n",
        "\n",
        "      grad_circ.y(grad_circ.num_qubits - 2)\n",
        "\n",
        "      for i in range(len(ops) - 1, -1, -1):\n",
        "        q_ind = i % self.num_data_qubits\n",
        "        opGate = UnitaryGate(1j * ops[i].conjugate().transpose()).control(1)\n",
        "        grad_circ.append(opGate, [grad_circ.num_qubits - 1, q_ind, grad_circ.num_qubits - 2])\n",
        "\n",
        "      grad_circ.h(grad_circ.num_qubits - 1)\n",
        "      grad_circ.measure([grad_circ.num_qubits - 1], list(range(grad_circ.num_clbits)))\n",
        "\n",
        "      circs.append(grad_circ)\n",
        "\n",
        "    # using HPC simulator\n",
        "    jobs = [(i, execute(circs[i], ibm_backend, shots=1024)) for i in range(len(circs))]\n",
        "\n",
        "    while jobs:\n",
        "      for j_ind, job in jobs:\n",
        "        if job.done():\n",
        "          results = job.result().get_counts(circs[j_ind])\n",
        "          # partial derivative is twice the imaginary component this circuit is meant to find\n",
        "          smol_delta_k = 2 - 4 * results[\"0\"] / (results[\"0\"] + results[\"1\"])\n",
        "          gradient[j_ind] = smol_delta_k\n",
        "          jobs.remove((j_ind, job))\n",
        "\n",
        "\n",
        "    return np.asarray([gradient[:self.num_data_qubits], gradient[self.num_data_qubits:]])\n",
        "        \n",
        "  # possible labels range from 1 to -1\n",
        "  @staticmethod\n",
        "  def loss_function(results, data_index, debug):\n",
        "    if debug:\n",
        "      print(\"label \", test_training_data[data_index][1])\n",
        "    average = (results['1'] - results['0']) / (results['0'] + results['1'])\n",
        "    if debug:\n",
        "      print(\"result \", average)\n",
        "    return 1 - average * test_training_data[data_index][1]\n",
        "\n",
        "  def update_network(self, training_index, ibm_backend):\n",
        "    grad = self.calc_grad(training_index, ibm_backend)\n",
        "    self.params = self.params - self.learning_rate * grad\n",
        "  "
      ],
      "execution_count": 25,
      "outputs": []
    },
    {
      "cell_type": "markdown",
      "metadata": {
        "id": "pBfkVou5IhCy",
        "colab_type": "text"
      },
      "source": [
        "What about actual measurement?"
      ]
    },
    {
      "cell_type": "code",
      "metadata": {
        "id": "swc_Q_7sIjaw",
        "colab_type": "code",
        "colab": {
          "base_uri": "https://localhost:8080/",
          "height": 1000
        },
        "outputId": "11ad6dfc-5262-48e3-c34e-848e103f23b0"
      },
      "source": [
        "qnn = QNN()\n",
        "circ = qnn.construct_circuit()\n",
        "job_sim = execute(circ, backend_sim, shots=1024)\n",
        "counts = job_sim.result().get_counts(circ)\n",
        "initial_loss = QNN.loss_function(counts, 0, True)\n",
        "print(\"initial loss \", initial_loss)\n",
        "print(\"applying grad\")\n",
        "sample_indices = np.random.randint(0, len(test_training_data), len(test_training_data) // 10)\n",
        "for i, train_ind in enumerate(sample_indices):\n",
        "  print(f\"{i}: Processing sample {train_ind}\")\n",
        "  qnn.update_network(train_ind, ibmq_sim_backend)\n",
        "print(\"finished\")\n",
        "circ = qnn.construct_circuit()\n",
        "job_sim = execute(circ, backend_sim, shots=1024)\n",
        "counts = job_sim.result().get_counts(circ)\n",
        "final_loss = QNN.loss_function(counts, 0, True)\n",
        "print(\"resulting loss \", final_loss)\n",
        "print(\"change in loss \", final_loss - initial_loss)"
      ],
      "execution_count": 26,
      "outputs": [
        {
          "output_type": "stream",
          "text": [
            "label  -1\n",
            "result  -0.041015625\n",
            "initial loss  0.958984375\n",
            "applying grad\n",
            "Processing sample 414\n",
            "Processing sample 0\n",
            "Processing sample 201\n",
            "Processing sample 241\n",
            "Processing sample 670\n",
            "Processing sample 733\n",
            "Processing sample 609\n",
            "Processing sample 188\n",
            "Processing sample 220\n",
            "Processing sample 692\n",
            "Processing sample 787\n",
            "Processing sample 268\n",
            "Processing sample 471\n",
            "Processing sample 823\n",
            "Processing sample 779\n",
            "Processing sample 781\n",
            "Processing sample 170\n",
            "Processing sample 804\n",
            "Processing sample 805\n",
            "Processing sample 221\n",
            "Processing sample 717\n",
            "Processing sample 229\n",
            "Processing sample 376\n",
            "Processing sample 799\n",
            "Processing sample 112\n",
            "Processing sample 503\n",
            "Processing sample 525\n",
            "Processing sample 152\n",
            "Processing sample 89\n",
            "Processing sample 783\n",
            "Processing sample 622\n",
            "Processing sample 245\n",
            "Processing sample 895\n",
            "Processing sample 291\n",
            "Processing sample 848\n",
            "Processing sample 98\n",
            "Processing sample 824\n",
            "Processing sample 364\n",
            "Processing sample 676\n",
            "Processing sample 72\n",
            "Processing sample 309\n",
            "Processing sample 814\n",
            "Processing sample 235\n",
            "Processing sample 406\n",
            "Processing sample 907\n",
            "Processing sample 86\n",
            "Processing sample 127\n",
            "Processing sample 690\n",
            "Processing sample 111\n",
            "Processing sample 596\n",
            "Processing sample 142\n",
            "Processing sample 414\n",
            "Processing sample 73\n",
            "Processing sample 36\n",
            "Processing sample 942\n",
            "Processing sample 894\n",
            "Processing sample 744\n",
            "Processing sample 432\n",
            "Processing sample 255\n",
            "Processing sample 233\n",
            "Processing sample 520\n",
            "Processing sample 614\n",
            "Processing sample 339\n",
            "Processing sample 979\n",
            "Processing sample 606\n",
            "Processing sample 814\n",
            "Processing sample 399\n",
            "Processing sample 292\n",
            "Processing sample 914\n",
            "Processing sample 694\n",
            "Processing sample 379\n",
            "Processing sample 547\n",
            "Processing sample 272\n",
            "Processing sample 179\n",
            "Processing sample 934\n",
            "Processing sample 324\n",
            "Processing sample 199\n",
            "Processing sample 66\n",
            "Processing sample 440\n",
            "Processing sample 953\n",
            "Processing sample 766\n",
            "Processing sample 601\n",
            "Processing sample 572\n",
            "Processing sample 419\n",
            "Processing sample 992\n",
            "Processing sample 753\n",
            "Processing sample 541\n",
            "Processing sample 990\n",
            "Processing sample 428\n",
            "Processing sample 230\n",
            "Processing sample 29\n",
            "Processing sample 683\n",
            "Processing sample 896\n",
            "Processing sample 727\n",
            "Processing sample 627\n",
            "Processing sample 392\n",
            "Processing sample 194\n",
            "Processing sample 212\n",
            "Processing sample 770\n",
            "Processing sample 738\n",
            "finished\n",
            "label  -1\n",
            "result  -0.048828125\n",
            "resulting loss  0.951171875\n",
            "change in loss  -0.0078125\n"
          ],
          "name": "stdout"
        }
      ]
    },
    {
      "cell_type": "markdown",
      "metadata": {
        "id": "hTrkBUu_CvxS",
        "colab_type": "text"
      },
      "source": [
        "And what happens when we actually execute this circuit on one of IBM's quantum computers?"
      ]
    },
    {
      "cell_type": "code",
      "metadata": {
        "id": "ob6F331hDEZj",
        "colab_type": "code",
        "colab": {}
      },
      "source": [
        "# Get the least busy real quantum system\n",
        "q_backend = least_busy(provider.backends(filters=lambda x: x.configuration().n_qubits >= 15\n",
        "                                         and not x.configuration().simulator))\n",
        "print(q_backend, q_backend.status().pending_jobs)\n",
        "\n",
        "job_q = execute(circ, q_backend, shots=1024)\n",
        "job_monitor(job_q)\n",
        "q_result = job_q.result()"
      ],
      "execution_count": null,
      "outputs": []
    },
    {
      "cell_type": "code",
      "metadata": {
        "id": "RAP-GUa6Ov9E",
        "colab_type": "code",
        "colab": {}
      },
      "source": [
        "q_counts = q_result.get_counts(circ)\n",
        "plot_histogram(q_counts)"
      ],
      "execution_count": null,
      "outputs": []
    }
  ]
}